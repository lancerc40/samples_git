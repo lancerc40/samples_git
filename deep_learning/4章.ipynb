{
 "cells": [
  {
   "cell_type": "markdown",
   "metadata": {},
   "source": [
    "# 3層ニュ－ラルネットワーク"
   ]
  },
  {
   "cell_type": "code",
   "execution_count": 2,
   "metadata": {},
   "outputs": [],
   "source": [
    "# データが入力層のXに入ってくると、その値に重みW1をかけb1(バイアス,\n",
    "# 値はマイナス）を加算し活性化関数（シグモイド関数を使う）を使って値を出力する。\n",
    "# 先ほど計算した値を入力として重みW2をかけb2(バイアス,値はマイナス）を加算し活性化関数（シグモイド関数を使う）を使って値を出力する。"
   ]
  },
  {
   "cell_type": "markdown",
   "metadata": {},
   "source": [
    "# バッチ"
   ]
  },
  {
   "cell_type": "code",
   "execution_count": 3,
   "metadata": {},
   "outputs": [],
   "source": [
    "# 1枚づづ重みを処理する"
   ]
  },
  {
   "cell_type": "markdown",
   "metadata": {},
   "source": [
    "# ミニバッチ"
   ]
  },
  {
   "cell_type": "code",
   "execution_count": 4,
   "metadata": {},
   "outputs": [],
   "source": [
    "# 学習のコストを低くする"
   ]
  },
  {
   "cell_type": "markdown",
   "metadata": {},
   "source": [
    "# オンライン学習"
   ]
  },
  {
   "cell_type": "code",
   "execution_count": 5,
   "metadata": {},
   "outputs": [],
   "source": [
    "# １つのデ－タを学習するごとにデ－タを更新。最後のデ－タの影響が大きい"
   ]
  },
  {
   "cell_type": "markdown",
   "metadata": {},
   "source": [
    "# 4-1"
   ]
  },
  {
   "cell_type": "markdown",
   "metadata": {},
   "source": [
    "# 過学習"
   ]
  },
  {
   "cell_type": "code",
   "execution_count": 6,
   "metadata": {},
   "outputs": [],
   "source": [
    "# あるデータセットだけに過度に適応した状態をいう。\n",
    "# 過学習を避けることは、機械学習の重要な課題でもある。"
   ]
  },
  {
   "cell_type": "markdown",
   "metadata": {},
   "source": [
    "# 4-2"
   ]
  },
  {
   "cell_type": "markdown",
   "metadata": {},
   "source": [
    "# 損失関数"
   ]
  },
  {
   "cell_type": "code",
   "execution_count": 7,
   "metadata": {},
   "outputs": [],
   "source": [
    "# ニュ－ラルネットワークの学習では、ある「ひとつの指標」によって現在の状態を表す。\n",
    "# その指標を基準として、最適な重みパラメータの探索を行う。損失関数とは、ニュ－ラルネットワークの学習で用いられる指標をいう。"
   ]
  },
  {
   "cell_type": "markdown",
   "metadata": {},
   "source": [
    "# 主な損失関数"
   ]
  },
  {
   "cell_type": "code",
   "execution_count": 8,
   "metadata": {},
   "outputs": [],
   "source": [
    "# 2乗和誤差、交差エントロピー誤差がある"
   ]
  },
  {
   "cell_type": "markdown",
   "metadata": {},
   "source": [
    "# ミニバッチ学習"
   ]
  },
  {
   "cell_type": "code",
   "execution_count": 10,
   "metadata": {},
   "outputs": [],
   "source": [
    "# たとえば60,000枚の訓練データの中から、100枚を無作為に選び出して、その100枚を\n",
    "# 使って学習を行う手法をミニバッチ学習という。"
   ]
  },
  {
   "cell_type": "markdown",
   "metadata": {},
   "source": [
    "# 4.2.5なぜ損失関数を設定するのか？"
   ]
  },
  {
   "cell_type": "code",
   "execution_count": 11,
   "metadata": {},
   "outputs": [],
   "source": [
    "# ニュ－ラルネットワークの学習では、最適なパラメータ（重みとバイアス）を探索する際に\n",
    "# 、損失関数の値ができるだけ小さくなるようなパラメータを探す。　できるだけ小さな損失\n",
    "# 関数の場所を探すために、パラメータの微分（正確には勾配）を計算し、その微分の値を\n",
    "# 手がかりにパラメータの値を徐々に更新していく。"
   ]
  },
  {
   "cell_type": "code",
   "execution_count": 12,
   "metadata": {},
   "outputs": [],
   "source": [
    "# ニュ－ラルネットワークの学習の際に、認識制度を指標にしていけない。その理由は、認識\n",
    "# 制度を指標にすると、パラメータの微分がほとんどの場所で０になってしまう"
   ]
  },
  {
   "cell_type": "markdown",
   "metadata": {},
   "source": [
    "# 4.4"
   ]
  },
  {
   "cell_type": "markdown",
   "metadata": {},
   "source": [
    "# 勾配"
   ]
  },
  {
   "cell_type": "code",
   "execution_count": 14,
   "metadata": {},
   "outputs": [],
   "source": [
    "# すべての変数の偏微分をベクトルとしてまとめたものをいう"
   ]
  },
  {
   "cell_type": "markdown",
   "metadata": {},
   "source": [
    "# 勾配法"
   ]
  },
  {
   "cell_type": "code",
   "execution_count": 15,
   "metadata": {},
   "outputs": [],
   "source": [
    "# 最適なパラメータというのは、損失関数が最小値を取るときのパラメータの値です。勾配法\n",
    "# とは各地点において関数の値を最も減らす方向を示すものをいう。"
   ]
  },
  {
   "cell_type": "code",
   "execution_count": 16,
   "metadata": {},
   "outputs": [],
   "source": [
    "# 勾配法では、現在の場所から勾配方向に一定の距離だけ進む。移動した先でも同様に勾配を求め、また、その勾配方向へ進むというように、繰り返し勾配方向へ移動します。\n",
    "# 勾配方向へ進むことを繰り返すことで、関数の値を徐々に減らすのが勾配法です。"
   ]
  },
  {
   "cell_type": "markdown",
   "metadata": {},
   "source": [
    "# なぜ勾配法を使うのか？"
   ]
  },
  {
   "cell_type": "code",
   "execution_count": 17,
   "metadata": {},
   "outputs": [],
   "source": [
    "# パラメータ（重みとバイアス）の最適化を図る"
   ]
  },
  {
   "cell_type": "code",
   "execution_count": null,
   "metadata": {},
   "outputs": [],
   "source": []
  }
 ],
 "metadata": {
  "kernelspec": {
   "display_name": "Python 3",
   "language": "python",
   "name": "python3"
  },
  "language_info": {
   "codemirror_mode": {
    "name": "ipython",
    "version": 3
   },
   "file_extension": ".py",
   "mimetype": "text/x-python",
   "name": "python",
   "nbconvert_exporter": "python",
   "pygments_lexer": "ipython3",
   "version": "3.7.1"
  }
 },
 "nbformat": 4,
 "nbformat_minor": 2
}
