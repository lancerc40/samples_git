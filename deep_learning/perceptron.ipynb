{
 "cells": [
  {
   "cell_type": "markdown",
   "metadata": {},
   "source": [
    "# 単層パーセプトロン"
   ]
  },
  {
   "cell_type": "markdown",
   "metadata": {},
   "source": [
    "単層パーセプトロンは、複数の信号を入力として受け取り、ひとつの信号を出力する。\n",
    "パーセプトロンの信号は１か０の二つの値。ここで１は信号を流す。　０は信号を流さない。"
   ]
  },
  {
   "cell_type": "markdown",
   "metadata": {},
   "source": [
    "パーセプトロンを式で書くと\n",
    "　y = 0 (w1x1 + w2x2 <= θ　・・①\n",
    "　y = 1 (w1x1 + w2x2  > θ　・・①\n",
    "　※ x1,x2は入力信号、w1,w2は重みを表す。"
   ]
  },
  {
   "cell_type": "markdown",
   "metadata": {},
   "source": [
    "ここでx1,x2は入力信号、yは出力信号、w1,w2は重みを表す。\n",
    "　入力信号は、ニューロンに送られる際に、それぞれに固有の重みが乗算される（w1x1、w2x2)。\n",
    "  パーセプトロンの重みは、その値が大きければ大きいほど、大きな信号が流れることを意味する。"
   ]
  },
  {
   "cell_type": "markdown",
   "metadata": {},
   "source": [
    "ニューロンでは、送られてきた信号の総和が計算され、その総和がある限界値(θ)を超えた場合にのみ１を出力する。\n",
    "　これを「ニューロンが発火する」という。"
   ]
  },
  {
   "cell_type": "markdown",
   "metadata": {},
   "source": [
    "#単純な論理回路"
   ]
  },
  {
   "cell_type": "markdown",
   "metadata": {},
   "source": [
    "単層パーセプトロンは３つの論理回路がある。\n",
    "　１ANDゲート　２つの入力が１のときだけ１を出力。それ以外は０を出力する。\n",
    "  2 NANDゲート　２つの入力が０のときだけ１を出力。それ以外は１を出力する。（ANDゲートの逆）\n",
    "  3 ORゲート　２つの入力が０のとき０を出力。それ以外は１を出力する。"
   ]
  },
  {
   "cell_type": "markdown",
   "metadata": {},
   "source": [
    "#重みとバイアスの導入"
   ]
  },
  {
   "cell_type": "markdown",
   "metadata": {},
   "source": [
    "式①のθを-bとして、次の式で表す。\n",
    "　y = 0 (b+w1x1 + w2x2 <= 0\n",
    "  y = 1 (b+w1x1 + w2x2 > 0\n",
    "  ※ bをバイアスという\n",
    "  ※ w1,w2は入力信号への重要度をコントロールするパラメータとして機能する。\n",
    "  \n",
    "　　簡単にいうと１を出しやすくするにはバイアスが小さければいい"
   ]
  },
  {
   "cell_type": "markdown",
   "metadata": {},
   "source": [
    "# 多層パーセプトロン"
   ]
  },
  {
   "cell_type": "markdown",
   "metadata": {},
   "source": [
    "多層パーセプトロンとは、層を複数重ねたパーセプトロンをいう。"
   ]
  },
  {
   "cell_type": "markdown",
   "metadata": {},
   "source": [
    "#論理回路"
   ]
  },
  {
   "cell_type": "markdown",
   "metadata": {},
   "source": [
    "多層パーセプトロンは論理回路　XORゲート（x1とx2のどちらかが１つのときだけ出力が１になる）になる"
   ]
  },
  {
   "cell_type": "markdown",
   "metadata": {},
   "source": [
    "XORゲートは第０層　NANDゲートとORゲート　→ 第１層　ANDゲート　→ 出力"
   ]
  },
  {
   "cell_type": "markdown",
   "metadata": {},
   "source": [
    "簡単にいうと、　単層パーセプトロンは入ってきた信号に重みを掛けバイアス（マイナスの値を加えて０または１を出力する。\n",
    "　多層パーセプトロンは単層パーセプトロンを複数重ねたもの"
   ]
  },
  {
   "cell_type": "code",
   "execution_count": null,
   "metadata": {},
   "outputs": [],
   "source": []
  }
 ],
 "metadata": {
  "kernelspec": {
   "display_name": "Python 3",
   "language": "python",
   "name": "python3"
  },
  "language_info": {
   "codemirror_mode": {
    "name": "ipython",
    "version": 3
   },
   "file_extension": ".py",
   "mimetype": "text/x-python",
   "name": "python",
   "nbconvert_exporter": "python",
   "pygments_lexer": "ipython3",
   "version": "3.7.1"
  }
 },
 "nbformat": 4,
 "nbformat_minor": 2
}
